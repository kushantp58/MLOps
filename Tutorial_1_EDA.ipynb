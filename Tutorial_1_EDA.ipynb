{
 "cells": [
  {
   "attachments": {},
   "cell_type": "markdown",
   "metadata": {},
   "source": [
    "#### This notebook is a part of the tutorial series on Effective MLOps with WANDb. All credits to the author of the tutorial. I'm just the small guy trying to learn and help you along the way with better comments and explanations."
   ]
  },
  {
   "attachments": {},
   "cell_type": "markdown",
   "metadata": {},
   "source": [
    "> \n",
    "##### Exploratory Data Analysis is an approach to analyzing and summarizing datasets to figure out underlying distributon, structure and relationships.\n",
    "##### 1. The main goal as dicussed before is to uncover underlying distribution of the data, presence of the outliers and any potential relationships between the variables.\n",
    "##### 2. Univariate analysis -> Analyzing each variable independently and summarizing their distirbution using visual plots like histogram, boxplots and frequency distributions\n",
    "##### 3. Bivariate analysis -> Analyzing relationship between two variables using scatter plots, cross tabulations and correlation of coefficients\n",
    "##### 4. Multivariate analysis -> Analyzing the relationship between multiple variables using dimension reduction techniques including PCA,t-SNE and clustering algorithms.\n",
    "##### 5. Data visualization -> Invovles plot creation for visual exploration of data for identification of patterns, trends and outliers."
   ]
  },
  {
   "cell_type": "code",
   "execution_count": 1,
   "metadata": {},
   "outputs": [
    {
     "name": "stdout",
     "output_type": "stream",
     "text": [
      "Looking in links: https://download.pytorch.org/whl/torch_stable.html\n",
      "Requirement already satisfied: torch in /home/puget/.local/lib/python3.8/site-packages (1.13.1)\n",
      "Requirement already satisfied: torchvision in /home/puget/.local/lib/python3.8/site-packages (0.14.1)\n",
      "Requirement already satisfied: nvidia-cublas-cu11==11.10.3.66; platform_system == \"Linux\" in /home/puget/.local/lib/python3.8/site-packages (from torch) (11.10.3.66)\n",
      "Requirement already satisfied: nvidia-cuda-runtime-cu11==11.7.99; platform_system == \"Linux\" in /home/puget/.local/lib/python3.8/site-packages (from torch) (11.7.99)\n",
      "Requirement already satisfied: nvidia-cudnn-cu11==8.5.0.96; platform_system == \"Linux\" in /home/puget/.local/lib/python3.8/site-packages (from torch) (8.5.0.96)\n",
      "Requirement already satisfied: nvidia-cuda-nvrtc-cu11==11.7.99; platform_system == \"Linux\" in /home/puget/.local/lib/python3.8/site-packages (from torch) (11.7.99)\n",
      "Requirement already satisfied: typing-extensions in /home/puget/.local/lib/python3.8/site-packages (from torch) (4.4.0)\n",
      "Requirement already satisfied: requests in /home/puget/.local/lib/python3.8/site-packages (from torchvision) (2.28.2)\n",
      "Requirement already satisfied: pillow!=8.3.*,>=5.3.0 in /usr/lib/python3/dist-packages (from torchvision) (7.0.0)\n",
      "Requirement already satisfied: numpy in /home/puget/.local/lib/python3.8/site-packages (from torchvision) (1.24.1)\n",
      "Requirement already satisfied: wheel in /usr/lib/python3/dist-packages (from nvidia-cublas-cu11==11.10.3.66; platform_system == \"Linux\"->torch) (0.34.2)\n",
      "Requirement already satisfied: setuptools in /usr/lib/python3/dist-packages (from nvidia-cublas-cu11==11.10.3.66; platform_system == \"Linux\"->torch) (45.2.0)\n",
      "Requirement already satisfied: urllib3<1.27,>=1.21.1 in /home/puget/.local/lib/python3.8/site-packages (from requests->torchvision) (1.26.14)\n",
      "Requirement already satisfied: certifi>=2017.4.17 in /usr/lib/python3/dist-packages (from requests->torchvision) (2019.11.28)\n",
      "Requirement already satisfied: charset-normalizer<4,>=2 in /home/puget/.local/lib/python3.8/site-packages (from requests->torchvision) (2.1.1)\n",
      "Requirement already satisfied: idna<4,>=2.5 in /home/puget/.local/lib/python3.8/site-packages (from requests->torchvision) (3.4)\n",
      "Requirement already satisfied: jupyter_contrib_nbextensions in /home/puget/.local/lib/python3.8/site-packages (0.7.0)\n",
      "Requirement already satisfied: notebook>=6.0 in /home/puget/.local/lib/python3.8/site-packages (from jupyter_contrib_nbextensions) (6.5.2)\n",
      "Requirement already satisfied: traitlets>=4.1 in /home/puget/.local/lib/python3.8/site-packages (from jupyter_contrib_nbextensions) (5.8.1)\n",
      "Requirement already satisfied: ipython-genutils in /home/puget/.local/lib/python3.8/site-packages (from jupyter_contrib_nbextensions) (0.2.0)\n",
      "Requirement already satisfied: tornado in /home/puget/.local/lib/python3.8/site-packages (from jupyter_contrib_nbextensions) (6.2)\n",
      "Requirement already satisfied: jupyter-core in /home/puget/.local/lib/python3.8/site-packages (from jupyter_contrib_nbextensions) (5.1.3)\n",
      "Requirement already satisfied: nbconvert>=6.0 in /home/puget/.local/lib/python3.8/site-packages (from jupyter_contrib_nbextensions) (7.2.8)\n",
      "Requirement already satisfied: jupyter-nbextensions-configurator>=0.4.0 in /home/puget/.local/lib/python3.8/site-packages (from jupyter_contrib_nbextensions) (0.6.1)\n",
      "Requirement already satisfied: jupyter-highlight-selected-word>=0.1.1 in /home/puget/.local/lib/python3.8/site-packages (from jupyter_contrib_nbextensions) (0.2.0)\n",
      "Requirement already satisfied: jupyter-contrib-core>=0.3.3 in /home/puget/.local/lib/python3.8/site-packages (from jupyter_contrib_nbextensions) (0.4.2)\n",
      "Requirement already satisfied: lxml in /home/puget/.local/lib/python3.8/site-packages (from jupyter_contrib_nbextensions) (4.9.2)\n",
      "Requirement already satisfied: ipykernel in /home/puget/.local/lib/python3.8/site-packages (from notebook>=6.0->jupyter_contrib_nbextensions) (6.20.2)\n",
      "Requirement already satisfied: nbformat in /home/puget/.local/lib/python3.8/site-packages (from notebook>=6.0->jupyter_contrib_nbextensions) (5.7.3)\n",
      "Requirement already satisfied: jinja2 in /home/puget/.local/lib/python3.8/site-packages (from notebook>=6.0->jupyter_contrib_nbextensions) (3.1.2)\n",
      "Requirement already satisfied: jupyter-client>=5.3.4 in /home/puget/.local/lib/python3.8/site-packages (from notebook>=6.0->jupyter_contrib_nbextensions) (7.4.9)\n",
      "Requirement already satisfied: argon2-cffi in /home/puget/.local/lib/python3.8/site-packages (from notebook>=6.0->jupyter_contrib_nbextensions) (21.3.0)\n",
      "Requirement already satisfied: prometheus-client in /home/puget/.local/lib/python3.8/site-packages (from notebook>=6.0->jupyter_contrib_nbextensions) (0.15.0)\n",
      "Requirement already satisfied: nest-asyncio>=1.5 in /home/puget/.local/lib/python3.8/site-packages (from notebook>=6.0->jupyter_contrib_nbextensions) (1.5.6)\n",
      "Requirement already satisfied: Send2Trash>=1.8.0 in /home/puget/.local/lib/python3.8/site-packages (from notebook>=6.0->jupyter_contrib_nbextensions) (1.8.0)\n",
      "Requirement already satisfied: terminado>=0.8.3 in /home/puget/.local/lib/python3.8/site-packages (from notebook>=6.0->jupyter_contrib_nbextensions) (0.17.1)\n",
      "Requirement already satisfied: nbclassic>=0.4.7 in /home/puget/.local/lib/python3.8/site-packages (from notebook>=6.0->jupyter_contrib_nbextensions) (0.4.8)\n",
      "Requirement already satisfied: pyzmq>=17 in /home/puget/.local/lib/python3.8/site-packages (from notebook>=6.0->jupyter_contrib_nbextensions) (25.0.0)\n",
      "Requirement already satisfied: platformdirs>=2.5 in /home/puget/.local/lib/python3.8/site-packages (from jupyter-core->jupyter_contrib_nbextensions) (2.6.2)\n",
      "Requirement already satisfied: pygments>=2.4.1 in /home/puget/.local/lib/python3.8/site-packages (from nbconvert>=6.0->jupyter_contrib_nbextensions) (2.14.0)\n",
      "Requirement already satisfied: beautifulsoup4 in /home/puget/.local/lib/python3.8/site-packages (from nbconvert>=6.0->jupyter_contrib_nbextensions) (4.11.1)\n",
      "Requirement already satisfied: jupyterlab-pygments in /home/puget/.local/lib/python3.8/site-packages (from nbconvert>=6.0->jupyter_contrib_nbextensions) (0.2.2)\n",
      "Requirement already satisfied: packaging in /home/puget/.local/lib/python3.8/site-packages (from nbconvert>=6.0->jupyter_contrib_nbextensions) (22.0)\n",
      "Requirement already satisfied: mistune<3,>=2.0.3 in /home/puget/.local/lib/python3.8/site-packages (from nbconvert>=6.0->jupyter_contrib_nbextensions) (2.0.4)\n",
      "Requirement already satisfied: bleach in /home/puget/.local/lib/python3.8/site-packages (from nbconvert>=6.0->jupyter_contrib_nbextensions) (5.0.1)\n",
      "Requirement already satisfied: pandocfilters>=1.4.1 in /home/puget/.local/lib/python3.8/site-packages (from nbconvert>=6.0->jupyter_contrib_nbextensions) (1.5.0)\n",
      "Requirement already satisfied: defusedxml in /home/puget/.local/lib/python3.8/site-packages (from nbconvert>=6.0->jupyter_contrib_nbextensions) (0.7.1)\n",
      "Requirement already satisfied: tinycss2 in /home/puget/.local/lib/python3.8/site-packages (from nbconvert>=6.0->jupyter_contrib_nbextensions) (1.2.1)\n",
      "Requirement already satisfied: markupsafe>=2.0 in /home/puget/.local/lib/python3.8/site-packages (from nbconvert>=6.0->jupyter_contrib_nbextensions) (2.1.1)\n",
      "Requirement already satisfied: importlib-metadata>=3.6; python_version < \"3.10\" in /home/puget/.local/lib/python3.8/site-packages (from nbconvert>=6.0->jupyter_contrib_nbextensions) (5.2.0)\n",
      "Requirement already satisfied: nbclient>=0.5.0 in /home/puget/.local/lib/python3.8/site-packages (from nbconvert>=6.0->jupyter_contrib_nbextensions) (0.7.2)\n",
      "Requirement already satisfied: pyyaml in /usr/lib/python3/dist-packages (from jupyter-nbextensions-configurator>=0.4.0->jupyter_contrib_nbextensions) (5.3.1)\n",
      "Requirement already satisfied: setuptools in /usr/lib/python3/dist-packages (from jupyter-contrib-core>=0.3.3->jupyter_contrib_nbextensions) (45.2.0)\n",
      "Requirement already satisfied: ipython>=7.23.1 in /home/puget/.local/lib/python3.8/site-packages (from ipykernel->notebook>=6.0->jupyter_contrib_nbextensions) (8.8.0)\n",
      "Requirement already satisfied: psutil in /home/puget/.local/lib/python3.8/site-packages (from ipykernel->notebook>=6.0->jupyter_contrib_nbextensions) (5.9.4)\n",
      "Requirement already satisfied: matplotlib-inline>=0.1 in /home/puget/.local/lib/python3.8/site-packages (from ipykernel->notebook>=6.0->jupyter_contrib_nbextensions) (0.1.6)\n",
      "Requirement already satisfied: debugpy>=1.0 in /home/puget/.local/lib/python3.8/site-packages (from ipykernel->notebook>=6.0->jupyter_contrib_nbextensions) (1.6.5)\n",
      "Requirement already satisfied: comm>=0.1.1 in /home/puget/.local/lib/python3.8/site-packages (from ipykernel->notebook>=6.0->jupyter_contrib_nbextensions) (0.1.2)\n",
      "Requirement already satisfied: jsonschema>=2.6 in /home/puget/.local/lib/python3.8/site-packages (from nbformat->notebook>=6.0->jupyter_contrib_nbextensions) (4.17.3)\n",
      "Requirement already satisfied: fastjsonschema in /home/puget/.local/lib/python3.8/site-packages (from nbformat->notebook>=6.0->jupyter_contrib_nbextensions) (2.16.2)\n",
      "Requirement already satisfied: python-dateutil>=2.8.2 in /home/puget/.local/lib/python3.8/site-packages (from jupyter-client>=5.3.4->notebook>=6.0->jupyter_contrib_nbextensions) (2.8.2)\n",
      "Requirement already satisfied: entrypoints in /usr/lib/python3/dist-packages (from jupyter-client>=5.3.4->notebook>=6.0->jupyter_contrib_nbextensions) (0.3)\n",
      "Requirement already satisfied: argon2-cffi-bindings in /home/puget/.local/lib/python3.8/site-packages (from argon2-cffi->notebook>=6.0->jupyter_contrib_nbextensions) (21.2.0)\n",
      "Requirement already satisfied: ptyprocess; os_name != \"nt\" in /home/puget/.local/lib/python3.8/site-packages (from terminado>=0.8.3->notebook>=6.0->jupyter_contrib_nbextensions) (0.7.0)\n",
      "Requirement already satisfied: notebook-shim>=0.1.0 in /home/puget/.local/lib/python3.8/site-packages (from nbclassic>=0.4.7->notebook>=6.0->jupyter_contrib_nbextensions) (0.2.2)\n",
      "Requirement already satisfied: jupyter-server>=1.8 in /home/puget/.local/lib/python3.8/site-packages (from nbclassic>=0.4.7->notebook>=6.0->jupyter_contrib_nbextensions) (2.1.0)\n",
      "Requirement already satisfied: soupsieve>1.2 in /home/puget/.local/lib/python3.8/site-packages (from beautifulsoup4->nbconvert>=6.0->jupyter_contrib_nbextensions) (2.3.2.post1)\n",
      "Requirement already satisfied: six>=1.9.0 in /usr/lib/python3/dist-packages (from bleach->nbconvert>=6.0->jupyter_contrib_nbextensions) (1.14.0)\n",
      "Requirement already satisfied: webencodings in /home/puget/.local/lib/python3.8/site-packages (from bleach->nbconvert>=6.0->jupyter_contrib_nbextensions) (0.5.1)\n",
      "Requirement already satisfied: zipp>=0.5 in /home/puget/.local/lib/python3.8/site-packages (from importlib-metadata>=3.6; python_version < \"3.10\"->nbconvert>=6.0->jupyter_contrib_nbextensions) (3.11.0)\n",
      "Requirement already satisfied: decorator in /home/puget/.local/lib/python3.8/site-packages (from ipython>=7.23.1->ipykernel->notebook>=6.0->jupyter_contrib_nbextensions) (5.1.1)\n",
      "Requirement already satisfied: backcall in /home/puget/.local/lib/python3.8/site-packages (from ipython>=7.23.1->ipykernel->notebook>=6.0->jupyter_contrib_nbextensions) (0.2.0)\n",
      "Requirement already satisfied: jedi>=0.16 in /home/puget/.local/lib/python3.8/site-packages (from ipython>=7.23.1->ipykernel->notebook>=6.0->jupyter_contrib_nbextensions) (0.18.2)\n",
      "Requirement already satisfied: stack-data in /home/puget/.local/lib/python3.8/site-packages (from ipython>=7.23.1->ipykernel->notebook>=6.0->jupyter_contrib_nbextensions) (0.6.2)\n",
      "Requirement already satisfied: prompt-toolkit<3.1.0,>=3.0.11 in /home/puget/.local/lib/python3.8/site-packages (from ipython>=7.23.1->ipykernel->notebook>=6.0->jupyter_contrib_nbextensions) (3.0.36)\n",
      "Requirement already satisfied: pickleshare in /home/puget/.local/lib/python3.8/site-packages (from ipython>=7.23.1->ipykernel->notebook>=6.0->jupyter_contrib_nbextensions) (0.7.5)\n",
      "Requirement already satisfied: pexpect>4.3; sys_platform != \"win32\" in /usr/lib/python3/dist-packages (from ipython>=7.23.1->ipykernel->notebook>=6.0->jupyter_contrib_nbextensions) (4.6.0)\n",
      "Requirement already satisfied: pyrsistent!=0.17.0,!=0.17.1,!=0.17.2,>=0.14.0 in /home/puget/.local/lib/python3.8/site-packages (from jsonschema>=2.6->nbformat->notebook>=6.0->jupyter_contrib_nbextensions) (0.19.3)\n",
      "Requirement already satisfied: importlib-resources>=1.4.0; python_version < \"3.9\" in /home/puget/.local/lib/python3.8/site-packages (from jsonschema>=2.6->nbformat->notebook>=6.0->jupyter_contrib_nbextensions) (5.10.2)\n",
      "Requirement already satisfied: pkgutil-resolve-name>=1.3.10; python_version < \"3.9\" in /home/puget/.local/lib/python3.8/site-packages (from jsonschema>=2.6->nbformat->notebook>=6.0->jupyter_contrib_nbextensions) (1.3.10)\n",
      "Requirement already satisfied: attrs>=17.4.0 in /home/puget/.local/lib/python3.8/site-packages (from jsonschema>=2.6->nbformat->notebook>=6.0->jupyter_contrib_nbextensions) (22.2.0)\n",
      "Requirement already satisfied: cffi>=1.0.1 in /home/puget/.local/lib/python3.8/site-packages (from argon2-cffi-bindings->argon2-cffi->notebook>=6.0->jupyter_contrib_nbextensions) (1.15.1)\n",
      "Requirement already satisfied: websocket-client in /home/puget/.local/lib/python3.8/site-packages (from jupyter-server>=1.8->nbclassic>=0.4.7->notebook>=6.0->jupyter_contrib_nbextensions) (1.3.3)\n",
      "Requirement already satisfied: jupyter-events>=0.4.0 in /home/puget/.local/lib/python3.8/site-packages (from jupyter-server>=1.8->nbclassic>=0.4.7->notebook>=6.0->jupyter_contrib_nbextensions) (0.6.3)\n",
      "Requirement already satisfied: jupyter-server-terminals in /home/puget/.local/lib/python3.8/site-packages (from jupyter-server>=1.8->nbclassic>=0.4.7->notebook>=6.0->jupyter_contrib_nbextensions) (0.4.4)\n",
      "Requirement already satisfied: anyio<4,>=3.1.0 in /home/puget/.local/lib/python3.8/site-packages (from jupyter-server>=1.8->nbclassic>=0.4.7->notebook>=6.0->jupyter_contrib_nbextensions) (3.6.2)\n",
      "Requirement already satisfied: parso<0.9.0,>=0.8.0 in /home/puget/.local/lib/python3.8/site-packages (from jedi>=0.16->ipython>=7.23.1->ipykernel->notebook>=6.0->jupyter_contrib_nbextensions) (0.8.3)\n",
      "Requirement already satisfied: pure-eval in /home/puget/.local/lib/python3.8/site-packages (from stack-data->ipython>=7.23.1->ipykernel->notebook>=6.0->jupyter_contrib_nbextensions) (0.2.2)\n",
      "Requirement already satisfied: executing>=1.2.0 in /home/puget/.local/lib/python3.8/site-packages (from stack-data->ipython>=7.23.1->ipykernel->notebook>=6.0->jupyter_contrib_nbextensions) (1.2.0)\n",
      "Requirement already satisfied: asttokens>=2.1.0 in /home/puget/.local/lib/python3.8/site-packages (from stack-data->ipython>=7.23.1->ipykernel->notebook>=6.0->jupyter_contrib_nbextensions) (2.2.1)\n",
      "Requirement already satisfied: wcwidth in /home/puget/.local/lib/python3.8/site-packages (from prompt-toolkit<3.1.0,>=3.0.11->ipython>=7.23.1->ipykernel->notebook>=6.0->jupyter_contrib_nbextensions) (0.2.6)\n",
      "Requirement already satisfied: pycparser in /home/puget/.local/lib/python3.8/site-packages (from cffi>=1.0.1->argon2-cffi-bindings->argon2-cffi->notebook>=6.0->jupyter_contrib_nbextensions) (2.21)\n",
      "Requirement already satisfied: rfc3339-validator in /home/puget/.local/lib/python3.8/site-packages (from jupyter-events>=0.4.0->jupyter-server>=1.8->nbclassic>=0.4.7->notebook>=6.0->jupyter_contrib_nbextensions) (0.1.4)\n",
      "Requirement already satisfied: rfc3986-validator>=0.1.1 in /home/puget/.local/lib/python3.8/site-packages (from jupyter-events>=0.4.0->jupyter-server>=1.8->nbclassic>=0.4.7->notebook>=6.0->jupyter_contrib_nbextensions) (0.1.1)\n",
      "Requirement already satisfied: python-json-logger>=2.0.4 in /home/puget/.local/lib/python3.8/site-packages (from jupyter-events>=0.4.0->jupyter-server>=1.8->nbclassic>=0.4.7->notebook>=6.0->jupyter_contrib_nbextensions) (2.0.4)\n",
      "Requirement already satisfied: idna>=2.8 in /home/puget/.local/lib/python3.8/site-packages (from anyio<4,>=3.1.0->jupyter-server>=1.8->nbclassic>=0.4.7->notebook>=6.0->jupyter_contrib_nbextensions) (3.4)\n",
      "Requirement already satisfied: sniffio>=1.1 in /home/puget/.local/lib/python3.8/site-packages (from anyio<4,>=3.1.0->jupyter-server>=1.8->nbclassic>=0.4.7->notebook>=6.0->jupyter_contrib_nbextensions) (1.3.0)\n",
      "Requirement already satisfied: fastai in ./fastai (2.7.11)\n",
      "Requirement already satisfied: fastcore<1.6,>=1.4.5 in /home/puget/.local/lib/python3.8/site-packages (from fastai) (1.5.27)\n",
      "Requirement already satisfied: fastdownload<2,>=0.0.5 in /home/puget/.local/lib/python3.8/site-packages (from fastai) (0.0.7)\n",
      "Requirement already satisfied: fastprogress>=0.2.4 in /home/puget/.local/lib/python3.8/site-packages (from fastai) (1.0.3)\n",
      "Requirement already satisfied: matplotlib in /home/puget/.local/lib/python3.8/site-packages (from fastai) (3.6.3)\n",
      "Requirement already satisfied: packaging in /home/puget/.local/lib/python3.8/site-packages (from fastai) (22.0)\n",
      "Requirement already satisfied: pandas in /home/puget/.local/lib/python3.8/site-packages (from fastai) (1.5.2)\n",
      "Requirement already satisfied: pillow>6.0.0 in /usr/lib/python3/dist-packages (from fastai) (7.0.0)\n",
      "Requirement already satisfied: pip in /usr/lib/python3/dist-packages (from fastai) (20.0.2)\n",
      "Requirement already satisfied: pyyaml in /usr/lib/python3/dist-packages (from fastai) (5.3.1)\n",
      "Requirement already satisfied: requests in /home/puget/.local/lib/python3.8/site-packages (from fastai) (2.28.2)\n",
      "Requirement already satisfied: scikit-learn in /home/puget/.local/lib/python3.8/site-packages (from fastai) (1.2.0)\n",
      "Requirement already satisfied: scipy in /home/puget/.local/lib/python3.8/site-packages (from fastai) (1.9.3)\n",
      "Requirement already satisfied: spacy<4 in /home/puget/.local/lib/python3.8/site-packages (from fastai) (3.4.4)\n",
      "Requirement already satisfied: torch<1.14,>=1.7 in /home/puget/.local/lib/python3.8/site-packages (from fastai) (1.13.1)\n",
      "Requirement already satisfied: torchvision>=0.8.2 in /home/puget/.local/lib/python3.8/site-packages (from fastai) (0.14.1)\n",
      "Requirement already satisfied: cycler>=0.10 in /home/puget/.local/lib/python3.8/site-packages (from matplotlib->fastai) (0.11.0)\n",
      "Requirement already satisfied: pyparsing>=2.2.1 in /usr/lib/python3/dist-packages (from matplotlib->fastai) (2.4.6)\n",
      "Requirement already satisfied: contourpy>=1.0.1 in /home/puget/.local/lib/python3.8/site-packages (from matplotlib->fastai) (1.0.7)\n",
      "Requirement already satisfied: kiwisolver>=1.0.1 in /home/puget/.local/lib/python3.8/site-packages (from matplotlib->fastai) (1.4.4)\n",
      "Requirement already satisfied: numpy>=1.19 in /home/puget/.local/lib/python3.8/site-packages (from matplotlib->fastai) (1.24.1)\n",
      "Requirement already satisfied: python-dateutil>=2.7 in /home/puget/.local/lib/python3.8/site-packages (from matplotlib->fastai) (2.8.2)\n",
      "Requirement already satisfied: fonttools>=4.22.0 in /home/puget/.local/lib/python3.8/site-packages (from matplotlib->fastai) (4.38.0)\n",
      "Requirement already satisfied: pytz>=2020.1 in /home/puget/.local/lib/python3.8/site-packages (from pandas->fastai) (2022.7.1)\n",
      "Requirement already satisfied: certifi>=2017.4.17 in /usr/lib/python3/dist-packages (from requests->fastai) (2019.11.28)\n",
      "Requirement already satisfied: charset-normalizer<4,>=2 in /home/puget/.local/lib/python3.8/site-packages (from requests->fastai) (2.1.1)\n",
      "Requirement already satisfied: urllib3<1.27,>=1.21.1 in /home/puget/.local/lib/python3.8/site-packages (from requests->fastai) (1.26.14)\n",
      "Requirement already satisfied: idna<4,>=2.5 in /home/puget/.local/lib/python3.8/site-packages (from requests->fastai) (3.4)\n",
      "Requirement already satisfied: joblib>=1.1.1 in /home/puget/.local/lib/python3.8/site-packages (from scikit-learn->fastai) (1.2.0)\n",
      "Requirement already satisfied: threadpoolctl>=2.0.0 in /home/puget/.local/lib/python3.8/site-packages (from scikit-learn->fastai) (3.1.0)\n",
      "Requirement already satisfied: spacy-legacy<3.1.0,>=3.0.10 in /home/puget/.local/lib/python3.8/site-packages (from spacy<4->fastai) (3.0.11)\n",
      "Requirement already satisfied: pydantic!=1.8,!=1.8.1,<1.11.0,>=1.7.4 in /home/puget/.local/lib/python3.8/site-packages (from spacy<4->fastai) (1.10.4)\n",
      "Requirement already satisfied: jinja2 in /home/puget/.local/lib/python3.8/site-packages (from spacy<4->fastai) (3.1.2)\n",
      "Requirement already satisfied: langcodes<4.0.0,>=3.2.0 in /home/puget/.local/lib/python3.8/site-packages (from spacy<4->fastai) (3.3.0)\n",
      "Requirement already satisfied: preshed<3.1.0,>=3.0.2 in /home/puget/.local/lib/python3.8/site-packages (from spacy<4->fastai) (3.0.8)\n",
      "Requirement already satisfied: setuptools in /usr/lib/python3/dist-packages (from spacy<4->fastai) (45.2.0)\n",
      "Requirement already satisfied: spacy-loggers<2.0.0,>=1.0.0 in /home/puget/.local/lib/python3.8/site-packages (from spacy<4->fastai) (1.0.4)\n",
      "Requirement already satisfied: murmurhash<1.1.0,>=0.28.0 in /home/puget/.local/lib/python3.8/site-packages (from spacy<4->fastai) (1.0.9)\n",
      "Requirement already satisfied: catalogue<2.1.0,>=2.0.6 in /home/puget/.local/lib/python3.8/site-packages (from spacy<4->fastai) (2.0.8)\n",
      "Requirement already satisfied: srsly<3.0.0,>=2.4.3 in /home/puget/.local/lib/python3.8/site-packages (from spacy<4->fastai) (2.4.5)\n",
      "Requirement already satisfied: thinc<8.2.0,>=8.1.0 in /home/puget/.local/lib/python3.8/site-packages (from spacy<4->fastai) (8.1.7)\n",
      "Requirement already satisfied: tqdm<5.0.0,>=4.38.0 in /home/puget/.local/lib/python3.8/site-packages (from spacy<4->fastai) (4.64.1)\n",
      "Requirement already satisfied: pathy>=0.3.5 in /home/puget/.local/lib/python3.8/site-packages (from spacy<4->fastai) (0.10.1)\n",
      "Requirement already satisfied: cymem<2.1.0,>=2.0.2 in /home/puget/.local/lib/python3.8/site-packages (from spacy<4->fastai) (2.0.7)\n",
      "Requirement already satisfied: typer<0.8.0,>=0.3.0 in /home/puget/.local/lib/python3.8/site-packages (from spacy<4->fastai) (0.7.0)\n",
      "Requirement already satisfied: smart-open<7.0.0,>=5.2.1 in /home/puget/.local/lib/python3.8/site-packages (from spacy<4->fastai) (6.3.0)\n",
      "Requirement already satisfied: wasabi<1.1.0,>=0.9.1 in /home/puget/.local/lib/python3.8/site-packages (from spacy<4->fastai) (0.10.1)\n",
      "Requirement already satisfied: typing-extensions in /home/puget/.local/lib/python3.8/site-packages (from torch<1.14,>=1.7->fastai) (4.4.0)\n",
      "Requirement already satisfied: nvidia-cuda-runtime-cu11==11.7.99; platform_system == \"Linux\" in /home/puget/.local/lib/python3.8/site-packages (from torch<1.14,>=1.7->fastai) (11.7.99)\n",
      "Requirement already satisfied: nvidia-cublas-cu11==11.10.3.66; platform_system == \"Linux\" in /home/puget/.local/lib/python3.8/site-packages (from torch<1.14,>=1.7->fastai) (11.10.3.66)\n",
      "Requirement already satisfied: nvidia-cuda-nvrtc-cu11==11.7.99; platform_system == \"Linux\" in /home/puget/.local/lib/python3.8/site-packages (from torch<1.14,>=1.7->fastai) (11.7.99)\n",
      "Requirement already satisfied: nvidia-cudnn-cu11==8.5.0.96; platform_system == \"Linux\" in /home/puget/.local/lib/python3.8/site-packages (from torch<1.14,>=1.7->fastai) (8.5.0.96)\n",
      "Requirement already satisfied: six>=1.5 in /usr/lib/python3/dist-packages (from python-dateutil>=2.7->matplotlib->fastai) (1.14.0)\n",
      "Requirement already satisfied: MarkupSafe>=2.0 in /home/puget/.local/lib/python3.8/site-packages (from jinja2->spacy<4->fastai) (2.1.1)\n",
      "Requirement already satisfied: blis<0.8.0,>=0.7.8 in /home/puget/.local/lib/python3.8/site-packages (from thinc<8.2.0,>=8.1.0->spacy<4->fastai) (0.7.9)\n",
      "Requirement already satisfied: confection<1.0.0,>=0.0.1 in /home/puget/.local/lib/python3.8/site-packages (from thinc<8.2.0,>=8.1.0->spacy<4->fastai) (0.0.4)\n",
      "Requirement already satisfied: click<9.0.0,>=7.1.1 in /home/puget/.local/lib/python3.8/site-packages (from typer<0.8.0,>=0.3.0->spacy<4->fastai) (8.1.3)\n",
      "Requirement already satisfied: wheel in /usr/lib/python3/dist-packages (from nvidia-cuda-runtime-cu11==11.7.99; platform_system == \"Linux\"->torch<1.14,>=1.7->fastai) (0.34.2)\n"
     ]
    }
   ],
   "source": [
    "### Clone fastai repo for use in this notebook\n",
    "!pip3 install torch torchvision -f https://download.pytorch.org/whl/torch_stable.html\n",
    "!pip3 install jupyter_contrib_nbextensions\n",
    "!pip3 install fastai"
   ]
  },
  {
   "cell_type": "code",
   "execution_count": 2,
   "metadata": {},
   "outputs": [
    {
     "name": "stdout",
     "output_type": "stream",
     "text": [
      "Requirement already satisfied: tensorboard in /home/puget/.local/lib/python3.8/site-packages (2.11.2)\n",
      "Requirement already satisfied: grpcio>=1.24.3 in /home/puget/.local/lib/python3.8/site-packages (from tensorboard) (1.51.1)\n",
      "Requirement already satisfied: markdown>=2.6.8 in /home/puget/.local/lib/python3.8/site-packages (from tensorboard) (3.4.1)\n",
      "Requirement already satisfied: numpy>=1.12.0 in /home/puget/.local/lib/python3.8/site-packages (from tensorboard) (1.24.1)\n",
      "Requirement already satisfied: google-auth<3,>=1.6.3 in /home/puget/.local/lib/python3.8/site-packages (from tensorboard) (2.16.0)\n",
      "Requirement already satisfied: protobuf<4,>=3.9.2 in /home/puget/.local/lib/python3.8/site-packages (from tensorboard) (3.20.3)\n",
      "Requirement already satisfied: requests<3,>=2.21.0 in /home/puget/.local/lib/python3.8/site-packages (from tensorboard) (2.28.2)\n",
      "Requirement already satisfied: setuptools>=41.0.0 in /usr/lib/python3/dist-packages (from tensorboard) (45.2.0)\n",
      "Requirement already satisfied: google-auth-oauthlib<0.5,>=0.4.1 in /home/puget/.local/lib/python3.8/site-packages (from tensorboard) (0.4.6)\n",
      "Requirement already satisfied: tensorboard-plugin-wit>=1.6.0 in /home/puget/.local/lib/python3.8/site-packages (from tensorboard) (1.8.1)\n",
      "Requirement already satisfied: werkzeug>=1.0.1 in /home/puget/.local/lib/python3.8/site-packages (from tensorboard) (2.2.2)\n",
      "Requirement already satisfied: absl-py>=0.4 in /home/puget/.local/lib/python3.8/site-packages (from tensorboard) (1.4.0)\n",
      "Requirement already satisfied: wheel>=0.26 in /usr/lib/python3/dist-packages (from tensorboard) (0.34.2)\n",
      "Requirement already satisfied: tensorboard-data-server<0.7.0,>=0.6.0 in /home/puget/.local/lib/python3.8/site-packages (from tensorboard) (0.6.1)\n",
      "Requirement already satisfied: importlib-metadata>=4.4; python_version < \"3.10\" in /home/puget/.local/lib/python3.8/site-packages (from markdown>=2.6.8->tensorboard) (5.2.0)\n",
      "Requirement already satisfied: six>=1.9.0 in /usr/lib/python3/dist-packages (from google-auth<3,>=1.6.3->tensorboard) (1.14.0)\n",
      "Requirement already satisfied: pyasn1-modules>=0.2.1 in /usr/lib/python3/dist-packages (from google-auth<3,>=1.6.3->tensorboard) (0.2.1)\n",
      "Requirement already satisfied: rsa<5,>=3.1.4; python_version >= \"3.6\" in /usr/lib/python3/dist-packages (from google-auth<3,>=1.6.3->tensorboard) (4.0)\n",
      "Requirement already satisfied: cachetools<6.0,>=2.0.0 in /usr/lib/python3/dist-packages (from google-auth<3,>=1.6.3->tensorboard) (4.0.0)\n",
      "Requirement already satisfied: certifi>=2017.4.17 in /usr/lib/python3/dist-packages (from requests<3,>=2.21.0->tensorboard) (2019.11.28)\n",
      "Requirement already satisfied: urllib3<1.27,>=1.21.1 in /home/puget/.local/lib/python3.8/site-packages (from requests<3,>=2.21.0->tensorboard) (1.26.14)\n",
      "Requirement already satisfied: idna<4,>=2.5 in /home/puget/.local/lib/python3.8/site-packages (from requests<3,>=2.21.0->tensorboard) (3.4)\n",
      "Requirement already satisfied: charset-normalizer<4,>=2 in /home/puget/.local/lib/python3.8/site-packages (from requests<3,>=2.21.0->tensorboard) (2.1.1)\n",
      "Requirement already satisfied: requests-oauthlib>=0.7.0 in /home/puget/.local/lib/python3.8/site-packages (from google-auth-oauthlib<0.5,>=0.4.1->tensorboard) (1.3.1)\n",
      "Requirement already satisfied: MarkupSafe>=2.1.1 in /home/puget/.local/lib/python3.8/site-packages (from werkzeug>=1.0.1->tensorboard) (2.1.1)\n",
      "Requirement already satisfied: zipp>=0.5 in /home/puget/.local/lib/python3.8/site-packages (from importlib-metadata>=4.4; python_version < \"3.10\"->markdown>=2.6.8->tensorboard) (3.11.0)\n",
      "Requirement already satisfied: oauthlib>=3.0.0 in /usr/lib/python3/dist-packages (from requests-oauthlib>=0.7.0->google-auth-oauthlib<0.5,>=0.4.1->tensorboard) (3.1.0)\n"
     ]
    }
   ],
   "source": [
    "## Let's start with some imports\n",
    "!pip install tensorboard \n",
    "!pip3 install wandb -qqq"
   ]
  },
  {
   "cell_type": "code",
   "execution_count": 3,
   "metadata": {},
   "outputs": [],
   "source": [
    "### Import fastai and wandb for logging metrics\n",
    "import wandb\n",
    "import params\n",
    "from fastai.vision.all import *"
   ]
  },
  {
   "cell_type": "code",
   "execution_count": 4,
   "metadata": {},
   "outputs": [
    {
     "name": "stderr",
     "output_type": "stream",
     "text": [
      "\u001b[34m\u001b[1mwandb\u001b[0m: Currently logged in as: \u001b[33mktest123\u001b[0m. Use \u001b[1m`wandb login --relogin`\u001b[0m to force relogin\n"
     ]
    },
    {
     "data": {
      "text/plain": [
       "True"
      ]
     },
     "execution_count": 4,
     "metadata": {},
     "output_type": "execute_result"
    }
   ],
   "source": [
    "#login with your own wandb account\n",
    "wandb.login()\n"
   ]
  },
  {
   "attachments": {},
   "cell_type": "markdown",
   "metadata": {},
   "source": [
    "###### Dataset details \n",
    "###### The BDD or Berkeley Driving Dataset is a large-scale dataset consisting of 100K driving videos collected from more than 50k rides. Each videos is 40 sec long and 30 fps, more than 100 frames in total. The dataset includes diverse scene types including city streets, residential aread and highways, and diverse weather conditions at different times of the day. This dataset can be used for multi tasking including lane detection, semantic segmentation , instance segmentation, panoptic segmentation, multi-object tracking , segmentation tracking and more. \n",
    "\n",
    "###### The dataset is available at https://bdd100k.com/ for more details."
   ]
  },
  {
   "cell_type": "code",
   "execution_count": 5,
   "metadata": {},
   "outputs": [
    {
     "data": {
      "text/html": [
       "\n",
       "<style>\n",
       "    /* Turns off some styling */\n",
       "    progress {\n",
       "        /* gets rid of default border in Firefox and Opera. */\n",
       "        border: none;\n",
       "        /* Needs to be in here for Safari polyfill so background images work as expected. */\n",
       "        background-size: auto;\n",
       "    }\n",
       "    progress:not([value]), progress:not([value])::-webkit-progress-bar {\n",
       "        background: repeating-linear-gradient(45deg, #7e7e7e, #7e7e7e 10px, #5c5c5c 10px, #5c5c5c 20px);\n",
       "    }\n",
       "    .progress-bar-interrupted, .progress-bar-interrupted::-webkit-progress-bar {\n",
       "        background: #F44336;\n",
       "    }\n",
       "</style>\n"
      ],
      "text/plain": [
       "<IPython.core.display.HTML object>"
      ]
     },
     "metadata": {},
     "output_type": "display_data"
    },
    {
     "data": {
      "text/html": [
       "\n",
       "    <div>\n",
       "      <progress value='122470400' class='' max='122467691' style='width:300px; height:20px; vertical-align: middle;'></progress>\n",
       "      100.00% [122470400/122467691 00:11&lt;00:00]\n",
       "    </div>\n",
       "    "
      ],
      "text/plain": [
       "<IPython.core.display.HTML object>"
      ]
     },
     "metadata": {},
     "output_type": "display_data"
    }
   ],
   "source": [
    "## Download the dataset\n",
    "URL = 'https://storage.googleapis.com/wandb_course/bdd_simple_1k.zip'\n",
    "path = Path(untar_data(URL,force_download=True))"
   ]
  },
  {
   "cell_type": "code",
   "execution_count": 6,
   "metadata": {},
   "outputs": [
    {
     "data": {
      "text/plain": [
       "(#1000) [Path('/home/puget/.fastai/data/bdd_simple_1k/images/00e9be89-00001605.jpg'),Path('/home/puget/.fastai/data/bdd_simple_1k/images/3b76e313-a4f861d4.jpg'),Path('/home/puget/.fastai/data/bdd_simple_1k/images/4ac80c15-d1dcc514.jpg'),Path('/home/puget/.fastai/data/bdd_simple_1k/images/20b675b9-aeb033a5.jpg'),Path('/home/puget/.fastai/data/bdd_simple_1k/images/7b3ee12a-26590001.jpg'),Path('/home/puget/.fastai/data/bdd_simple_1k/images/70d7553c-7da414da.jpg'),Path('/home/puget/.fastai/data/bdd_simple_1k/images/9ece8bd6-3cede2ad.jpg'),Path('/home/puget/.fastai/data/bdd_simple_1k/images/a91b7555-00000920.jpg'),Path('/home/puget/.fastai/data/bdd_simple_1k/images/c060ea1f-12965687.jpg'),Path('/home/puget/.fastai/data/bdd_simple_1k/images/972ab49a-6a6eeaf5.jpg')...]"
      ]
     },
     "execution_count": 6,
     "metadata": {},
     "output_type": "execute_result"
    }
   ],
   "source": [
    "### Let's look at the data\n",
    "(path/'images').ls()"
   ]
  },
  {
   "cell_type": "code",
   "execution_count": 20,
   "metadata": {},
   "outputs": [],
   "source": [
    "### Let's create a class to preprocess the data and upload it to a wandb table\n",
    "class PreprocessData():\n",
    "    def annotate_funct(fname):\n",
    "        \"\"\" Function to annotate the data \"\"\"\n",
    "        return (fname.parent.parent/\"labels\")/f\"{fname.stem}_mask.png\"\n",
    "\n",
    "    def image_per_class(data,labels):\n",
    "        \"\"\" Function to count the number of images per class \"\"\"\n",
    "        mask_lst = list(np.unique(data))\n",
    "        output = {}\n",
    "        for i in labels.keys():\n",
    "            output[labels[i]] = int(i in mask_lst)\n",
    "        return output\n",
    "\n",
    "    def table_creation(files,labels):\n",
    "        \"\"\" Function to create the wandb table with the dataset \"\"\"\n",
    "\n",
    "        lb = [str(labels[i]) for i in list(labels)]\n",
    "        table = wandb.Table(columns=[\"File Name\",\"Image\",\"Split\"]+lb)\n",
    "\n",
    "        for i,f in progress_bar(enumerate(files),total=len(files)):\n",
    "            img = Image.open(f)\n",
    "            mask_data = np.array(Image.open(PreprocessData.annotate_funct(f)))\n",
    "            image_class = PreprocessData.image_per_class(mask_data,labels)\n",
    "            table.add_data(\n",
    "                str(f.name),\n",
    "                wandb.Image(\n",
    "                    img,\n",
    "                    masks={\n",
    "                        \"predictions\" : {\n",
    "                            \"mask_data\" : mask_data,\n",
    "                            \"class_labels\" : labels, \n",
    "                            }\n",
    "                    }\n",
    "                ),\n",
    "            \"None\",\n",
    "            *[image_class[i] for i in lb])\n",
    "\n",
    "        return table\n"
   ]
  },
  {
   "attachments": {},
   "cell_type": "markdown",
   "metadata": {},
   "source": [
    "##### Before we dive right into the code, let's understand what wandb is and how it can help us with our MLOps journey.\n",
    "##### W&B is a tool for tracking, visualizing and comparing machine learning experiments. It allows us to track and visualize metrics including accuracy, loss and other custom metrics as well as model gradients and weights during the training process. Not just that, it also incorporates comparison of multiple runs of the same or different models and share results with the rest of the team. Below mentioned are some common terms used in W&B.\n",
    "\n",
    "##### 1. Runs -> A run denotes a single execution of a machine learning model including the input data , configuration and the output metrics.\n",
    "##### 2. Metrics -> Metrics are quantifiable measurements of the performance of a model including loss, accuracy, precision, recall, F1 score and more.\n",
    "##### 3. Artifacts -> Artifacts consists of additional information that can be logged along with a run including model weights, model architecture, model predictions, model gradients and more.\n",
    "##### 4. Projects -> Come on, anyone can explain that but in short it's a way of organizing runs and experiments with each project having multiple runs and experiments.\n",
    "##### 5. Experiments -> Collection of runs sharing the same codebase, data and hyperparameters\n",
    "##### 6. Compare -> Compare is a feature that allows us to compare multiple runs and experiments in terms of their metrics and artifacts.\n",
    "##### 7. Dashboard -> A web based interface that allows us to view and explore runs, experiments and projects.\n",
    "##### 8. Integrations -> The flexibility of W&B allows us to blend it with different frameworks and libraries including PyTorch, TensorFlow, Keras, Scikit-learn, XGBoost for tracking training progress and logging experimental results.\n",
    "##### 9. Sweeps -> Sweeps allows to perform hyperparameter tuning and optmization of the model by running multiple experiments with different hyperparameters.\n",
    "##### 10. Notebooks -> W&B can track and monitor the progress of your jupyter notebooks and share the results with the rest of the team."
   ]
  },
  {
   "cell_type": "code",
   "execution_count": 9,
   "metadata": {},
   "outputs": [
    {
     "data": {
      "text/html": [
       "Finishing last run (ID:qnpmptit) before initializing another..."
      ],
      "text/plain": [
       "<IPython.core.display.HTML object>"
      ]
     },
     "metadata": {},
     "output_type": "display_data"
    },
    {
     "data": {
      "text/html": [
       "Waiting for W&B process to finish... <strong style=\"color:green\">(success).</strong>"
      ],
      "text/plain": [
       "<IPython.core.display.HTML object>"
      ]
     },
     "metadata": {},
     "output_type": "display_data"
    },
    {
     "data": {
      "application/vnd.jupyter.widget-view+json": {
       "model_id": "657742d2382742539a14cb2c04c2d279",
       "version_major": 2,
       "version_minor": 0
      },
      "text/plain": [
       "VBox(children=(Label(value='0.004 MB of 0.010 MB uploaded (0.000 MB deduped)\\r'), FloatProgress(value=0.430197…"
      ]
     },
     "metadata": {},
     "output_type": "display_data"
    },
    {
     "data": {
      "text/html": [
       " View run <strong style=\"color:#cdcd00\">helpful-dew-4</strong> at: <a href=\"https://wandb.ai/ktest123/mlops/runs/qnpmptit\" target=\"_blank\">https://wandb.ai/ktest123/mlops/runs/qnpmptit</a><br/>Synced 4 W&B file(s), 0 media file(s), 0 artifact file(s) and 0 other file(s)"
      ],
      "text/plain": [
       "<IPython.core.display.HTML object>"
      ]
     },
     "metadata": {},
     "output_type": "display_data"
    },
    {
     "data": {
      "text/html": [
       "Find logs at: <code>./wandb/run-20230116_140815-qnpmptit/logs</code>"
      ],
      "text/plain": [
       "<IPython.core.display.HTML object>"
      ]
     },
     "metadata": {},
     "output_type": "display_data"
    },
    {
     "data": {
      "text/html": [
       "Successfully finished last run (ID:qnpmptit). Initializing new run:<br/>"
      ],
      "text/plain": [
       "<IPython.core.display.HTML object>"
      ]
     },
     "metadata": {},
     "output_type": "display_data"
    },
    {
     "data": {
      "application/vnd.jupyter.widget-view+json": {
       "model_id": "5c0eadb3678749c28350ac99b6f897bb",
       "version_major": 2,
       "version_minor": 0
      },
      "text/plain": [
       "VBox(children=(Label(value='Waiting for wandb.init()...\\r'), FloatProgress(value=0.01666851151676383, max=1.0)…"
      ]
     },
     "metadata": {},
     "output_type": "display_data"
    },
    {
     "data": {
      "text/html": [
       "Tracking run with wandb version 0.13.9"
      ],
      "text/plain": [
       "<IPython.core.display.HTML object>"
      ]
     },
     "metadata": {},
     "output_type": "display_data"
    },
    {
     "data": {
      "text/html": [
       "Run data is saved locally in <code>/home/puget/Documents/kush_ws/MLOps/wandb/run-20230116_140849-feg24gz1</code>"
      ],
      "text/plain": [
       "<IPython.core.display.HTML object>"
      ]
     },
     "metadata": {},
     "output_type": "display_data"
    },
    {
     "data": {
      "text/html": [
       "Syncing run <strong><a href=\"https://wandb.ai/ktest123/mlops/runs/feg24gz1\" target=\"_blank\">chocolate-donkey-5</a></strong> to <a href=\"https://wandb.ai/ktest123/mlops\" target=\"_blank\">Weights & Biases</a> (<a href=\"https://wandb.me/run\" target=\"_blank\">docs</a>)<br/>"
      ],
      "text/plain": [
       "<IPython.core.display.HTML object>"
      ]
     },
     "metadata": {},
     "output_type": "display_data"
    },
    {
     "data": {
      "text/html": [
       " View project at <a href=\"https://wandb.ai/ktest123/mlops\" target=\"_blank\">https://wandb.ai/ktest123/mlops</a>"
      ],
      "text/plain": [
       "<IPython.core.display.HTML object>"
      ]
     },
     "metadata": {},
     "output_type": "display_data"
    },
    {
     "data": {
      "text/html": [
       " View run at <a href=\"https://wandb.ai/ktest123/mlops/runs/feg24gz1\" target=\"_blank\">https://wandb.ai/ktest123/mlops/runs/feg24gz1</a>"
      ],
      "text/plain": [
       "<IPython.core.display.HTML object>"
      ]
     },
     "metadata": {},
     "output_type": "display_data"
    }
   ],
   "source": [
    "## Assuming you went through above explanation, let's start a new wandb run and put everything into a raw artifact\n",
    "run = wandb.init(project=\"mlops\",entity=\"ktest123\",job_type=\"upload_data\")\n",
    "raw_data_artifact =  wandb.Artifact('bdd_simple_1k', type=\"raw_data\")"
   ]
  },
  {
   "cell_type": "code",
   "execution_count": 12,
   "metadata": {},
   "outputs": [
    {
     "data": {
      "text/plain": [
       "ArtifactManifestEntry(path='LICENSE.txt', digest='X+6ZFkDOlnKesJCNt20yRg==', ref=None, birth_artifact_id=None, size=1594, extra={}, local_path='/home/puget/.local/share/wandb/artifacts/staging/tmp7midv_o5')"
      ]
     },
     "execution_count": 12,
     "metadata": {},
     "output_type": "execute_result"
    }
   ],
   "source": [
    "## Start adding files to artifact\n",
    "raw_data_artifact.add_file(path/'LICENSE.txt',name='LICENSE.txt')"
   ]
  },
  {
   "cell_type": "code",
   "execution_count": 13,
   "metadata": {},
   "outputs": [
    {
     "name": "stderr",
     "output_type": "stream",
     "text": [
      "\u001b[34m\u001b[1mwandb\u001b[0m: Adding directory to artifact (/home/puget/.fastai/data/bdd_simple_1k/images)... Done. 0.2s\n",
      "\u001b[34m\u001b[1mwandb\u001b[0m: Adding directory to artifact (/home/puget/.fastai/data/bdd_simple_1k/labels)... Done. 0.2s\n"
     ]
    }
   ],
   "source": [
    "### Let's add the images and labels to the artifact\n",
    "raw_data_artifact.add_dir(path/'images',name='images')\n",
    "raw_data_artifact.add_dir(path/'labels',name='labels')"
   ]
  },
  {
   "cell_type": "code",
   "execution_count": 15,
   "metadata": {},
   "outputs": [],
   "source": [
    "### Let's get the image files\n",
    "image_files = get_image_files(path/'images',recurse=True)"
   ]
  },
  {
   "cell_type": "code",
   "execution_count": 21,
   "metadata": {},
   "outputs": [],
   "source": [
    "BDD_CLASSES = {i:c for i,c in enumerate (['background','road','traffic light', 'traffic sign', 'person','vehicle','bicycle'])}"
   ]
  },
  {
   "cell_type": "code",
   "execution_count": 22,
   "metadata": {},
   "outputs": [
    {
     "data": {
      "text/html": [
       "\n",
       "<style>\n",
       "    /* Turns off some styling */\n",
       "    progress {\n",
       "        /* gets rid of default border in Firefox and Opera. */\n",
       "        border: none;\n",
       "        /* Needs to be in here for Safari polyfill so background images work as expected. */\n",
       "        background-size: auto;\n",
       "    }\n",
       "    progress:not([value]), progress:not([value])::-webkit-progress-bar {\n",
       "        background: repeating-linear-gradient(45deg, #7e7e7e, #7e7e7e 10px, #5c5c5c 10px, #5c5c5c 20px);\n",
       "    }\n",
       "    .progress-bar-interrupted, .progress-bar-interrupted::-webkit-progress-bar {\n",
       "        background: #F44336;\n",
       "    }\n",
       "</style>\n"
      ],
      "text/plain": [
       "<IPython.core.display.HTML object>"
      ]
     },
     "metadata": {},
     "output_type": "display_data"
    },
    {
     "data": {
      "text/html": [
       "\n",
       "    <div>\n",
       "      <progress value='0' class='' max='1000' style='width:300px; height:20px; vertical-align: middle;'></progress>\n",
       "      0.00% [0/1000 00:00&lt;?]\n",
       "    </div>\n",
       "    "
      ],
      "text/plain": [
       "<IPython.core.display.HTML object>"
      ]
     },
     "metadata": {},
     "output_type": "display_data"
    },
    {
     "ename": "TypeError",
     "evalue": "Class labels must be a dictionary of numbers to strings",
     "output_type": "error",
     "traceback": [
      "\u001b[0;31m---------------------------------------------------------------------------\u001b[0m",
      "\u001b[0;31mTypeError\u001b[0m                                 Traceback (most recent call last)",
      "Cell \u001b[0;32mIn[22], line 2\u001b[0m\n\u001b[1;32m      1\u001b[0m \u001b[39m### Let's create a wandb table with the dataset\u001b[39;00m\n\u001b[0;32m----> 2\u001b[0m wandb_table \u001b[39m=\u001b[39m PreprocessData\u001b[39m.\u001b[39;49mtable_creation(image_files, BDD_CLASSES)\n",
      "Cell \u001b[0;32mIn[20], line 25\u001b[0m, in \u001b[0;36mPreprocessData.table_creation\u001b[0;34m(files, labels)\u001b[0m\n\u001b[1;32m     23\u001b[0m     mask_data \u001b[39m=\u001b[39m np\u001b[39m.\u001b[39marray(Image\u001b[39m.\u001b[39mopen(PreprocessData\u001b[39m.\u001b[39mannotate_funct(f)))\n\u001b[1;32m     24\u001b[0m     image_class \u001b[39m=\u001b[39m PreprocessData\u001b[39m.\u001b[39mimage_per_class(mask_data,labels)\n\u001b[0;32m---> 25\u001b[0m     table\u001b[39m.\u001b[39madd_data(\u001b[39mstr\u001b[39m(f\u001b[39m.\u001b[39mname),wandb\u001b[39m.\u001b[39;49mImage(img,masks\u001b[39m=\u001b[39;49m{\u001b[39m\"\u001b[39;49m\u001b[39mpredictions\u001b[39;49m\u001b[39m\"\u001b[39;49m : {\u001b[39m\"\u001b[39;49m\u001b[39mmask_data\u001b[39;49m\u001b[39m\"\u001b[39;49m : mask_data,\u001b[39m\"\u001b[39;49m\u001b[39mclass_labels\u001b[39;49m\u001b[39m\"\u001b[39;49m : image_class}}),\u001b[39m\"\u001b[39m\u001b[39mNone\u001b[39m\u001b[39m\"\u001b[39m,\u001b[39m*\u001b[39m[image_class[i] \u001b[39mfor\u001b[39;00m i \u001b[39min\u001b[39;00m lb])\n\u001b[1;32m     27\u001b[0m \u001b[39mreturn\u001b[39;00m table\n",
      "File \u001b[0;32m~/.local/lib/python3.8/site-packages/wandb/sdk/data_types/image.py:160\u001b[0m, in \u001b[0;36mImage.__init__\u001b[0;34m(self, data_or_path, mode, caption, grouping, classes, boxes, masks)\u001b[0m\n\u001b[1;32m    157\u001b[0m \u001b[39melse\u001b[39;00m:\n\u001b[1;32m    158\u001b[0m     \u001b[39mself\u001b[39m\u001b[39m.\u001b[39m_initialize_from_data(data_or_path, mode)\n\u001b[0;32m--> 160\u001b[0m \u001b[39mself\u001b[39;49m\u001b[39m.\u001b[39;49m_set_initialization_meta(grouping, caption, classes, boxes, masks)\n",
      "File \u001b[0;32m~/.local/lib/python3.8/site-packages/wandb/sdk/data_types/image.py:202\u001b[0m, in \u001b[0;36mImage._set_initialization_meta\u001b[0;34m(self, grouping, caption, classes, boxes, masks)\u001b[0m\n\u001b[1;32m    199\u001b[0m     masks_final[key] \u001b[39m=\u001b[39m mask_item\n\u001b[1;32m    200\u001b[0m \u001b[39melif\u001b[39;00m \u001b[39misinstance\u001b[39m(mask_item, \u001b[39mdict\u001b[39m):\n\u001b[1;32m    201\u001b[0m     \u001b[39m# TODO: Consider injecting top-level classes if user-provided is empty\u001b[39;00m\n\u001b[0;32m--> 202\u001b[0m     masks_final[key] \u001b[39m=\u001b[39m ImageMask(mask_item, key)\n\u001b[1;32m    203\u001b[0m \u001b[39mif\u001b[39;00m \u001b[39mhasattr\u001b[39m(masks_final[key], \u001b[39m\"\u001b[39m\u001b[39m_val\u001b[39m\u001b[39m\"\u001b[39m):\n\u001b[1;32m    204\u001b[0m     total_classes\u001b[39m.\u001b[39mupdate(masks_final[key]\u001b[39m.\u001b[39m_val[\u001b[39m\"\u001b[39m\u001b[39mclass_labels\u001b[39m\u001b[39m\"\u001b[39m])\n",
      "File \u001b[0;32m~/.local/lib/python3.8/site-packages/wandb/sdk/data_types/helper_types/image_mask.py:145\u001b[0m, in \u001b[0;36mImageMask.__init__\u001b[0;34m(self, val, key)\u001b[0m\n\u001b[1;32m    142\u001b[0m     class_labels \u001b[39m=\u001b[39m {c: \u001b[39m\"\u001b[39m\u001b[39mclass_\u001b[39m\u001b[39m\"\u001b[39m \u001b[39m+\u001b[39m \u001b[39mstr\u001b[39m(c) \u001b[39mfor\u001b[39;00m c \u001b[39min\u001b[39;00m classes}\n\u001b[1;32m    143\u001b[0m     val[\u001b[39m\"\u001b[39m\u001b[39mclass_labels\u001b[39m\u001b[39m\"\u001b[39m] \u001b[39m=\u001b[39m class_labels\n\u001b[0;32m--> 145\u001b[0m \u001b[39mself\u001b[39;49m\u001b[39m.\u001b[39;49mvalidate(val)\n\u001b[1;32m    146\u001b[0m \u001b[39mself\u001b[39m\u001b[39m.\u001b[39m_val \u001b[39m=\u001b[39m val\n\u001b[1;32m    147\u001b[0m \u001b[39mself\u001b[39m\u001b[39m.\u001b[39m_key \u001b[39m=\u001b[39m key\n",
      "File \u001b[0;32m~/.local/lib/python3.8/site-packages/wandb/sdk/data_types/helper_types/image_mask.py:231\u001b[0m, in \u001b[0;36mImageMask.validate\u001b[0;34m(self, val)\u001b[0m\n\u001b[1;32m    229\u001b[0m     \u001b[39mfor\u001b[39;00m k, v \u001b[39min\u001b[39;00m \u001b[39mlist\u001b[39m(val[\u001b[39m\"\u001b[39m\u001b[39mclass_labels\u001b[39m\u001b[39m\"\u001b[39m]\u001b[39m.\u001b[39mitems()):\n\u001b[1;32m    230\u001b[0m         \u001b[39mif\u001b[39;00m (\u001b[39mnot\u001b[39;00m \u001b[39misinstance\u001b[39m(k, numbers\u001b[39m.\u001b[39mNumber)) \u001b[39mor\u001b[39;00m (\u001b[39mnot\u001b[39;00m \u001b[39misinstance\u001b[39m(v, \u001b[39mstr\u001b[39m)):\n\u001b[0;32m--> 231\u001b[0m             \u001b[39mraise\u001b[39;00m \u001b[39mTypeError\u001b[39;00m(\n\u001b[1;32m    232\u001b[0m                 \u001b[39m\"\u001b[39m\u001b[39mClass labels must be a dictionary of numbers to strings\u001b[39m\u001b[39m\"\u001b[39m\n\u001b[1;32m    233\u001b[0m             )\n\u001b[1;32m    234\u001b[0m \u001b[39mreturn\u001b[39;00m \u001b[39mTrue\u001b[39;00m\n",
      "\u001b[0;31mTypeError\u001b[0m: Class labels must be a dictionary of numbers to strings"
     ]
    }
   ],
   "source": [
    "### Let's create a wandb table with the dataset\n",
    "wandb_table = PreprocessData.table_creation(image_files, BDD_CLASSES)"
   ]
  }
 ],
 "metadata": {
  "kernelspec": {
   "display_name": "Python 3",
   "language": "python",
   "name": "python3"
  },
  "language_info": {
   "codemirror_mode": {
    "name": "ipython",
    "version": 3
   },
   "file_extension": ".py",
   "mimetype": "text/x-python",
   "name": "python",
   "nbconvert_exporter": "python",
   "pygments_lexer": "ipython3",
   "version": "3.8.10"
  },
  "orig_nbformat": 4,
  "vscode": {
   "interpreter": {
    "hash": "916dbcbb3f70747c44a77c7bcd40155683ae19c65e1c03b4aa3499c5328201f1"
   }
  }
 },
 "nbformat": 4,
 "nbformat_minor": 2
}
